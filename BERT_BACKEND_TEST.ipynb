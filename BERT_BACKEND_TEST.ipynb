{
  "nbformat": 4,
  "nbformat_minor": 0,
  "metadata": {
    "colab": {
      "provenance": [],
      "authorship_tag": "ABX9TyNbOKNX+DlO590GuBz3+31v",
      "include_colab_link": true
    },
    "kernelspec": {
      "name": "python3",
      "display_name": "Python 3"
    },
    "language_info": {
      "name": "python"
    }
  },
  "cells": [
    {
      "cell_type": "markdown",
      "metadata": {
        "id": "view-in-github",
        "colab_type": "text"
      },
      "source": [
        "<a href=\"https://colab.research.google.com/github/JYP97/DS2_Proj_Jobs_skills_analysis/blob/master/BERT_BACKEND_TEST.ipynb\" target=\"_parent\"><img src=\"https://colab.research.google.com/assets/colab-badge.svg\" alt=\"Open In Colab\"/></a>"
      ]
    },
    {
      "cell_type": "code",
      "execution_count": 30,
      "metadata": {
        "colab": {
          "base_uri": "https://localhost:8080/"
        },
        "id": "ih_fnZzilHb3",
        "outputId": "a58b6f11-ef64-4a35-c03d-4be5c57a4f11"
      },
      "outputs": [
        {
          "output_type": "stream",
          "name": "stdout",
          "text": [
            "Drive already mounted at /content/drive; to attempt to forcibly remount, call drive.mount(\"/content/drive\", force_remount=True).\n"
          ]
        }
      ],
      "source": [
        "from google.colab import drive\n",
        "drive.mount('/content/drive')"
      ]
    },
    {
      "cell_type": "code",
      "source": [
        "!pip install transformers\n",
        "from transformers import BertTokenizer, BertForSequenceClassification\n",
        "import torch\n",
        "import numpy as np"
      ],
      "metadata": {
        "colab": {
          "base_uri": "https://localhost:8080/"
        },
        "id": "H1oivP6Xl4NB",
        "outputId": "6ffe2a1c-e352-45db-a8c8-2c62e11f5d19"
      },
      "execution_count": 31,
      "outputs": [
        {
          "output_type": "stream",
          "name": "stdout",
          "text": [
            "Looking in indexes: https://pypi.org/simple, https://us-python.pkg.dev/colab-wheels/public/simple/\n",
            "Requirement already satisfied: transformers in /usr/local/lib/python3.8/dist-packages (4.25.1)\n",
            "Requirement already satisfied: pyyaml>=5.1 in /usr/local/lib/python3.8/dist-packages (from transformers) (6.0)\n",
            "Requirement already satisfied: huggingface-hub<1.0,>=0.10.0 in /usr/local/lib/python3.8/dist-packages (from transformers) (0.11.1)\n",
            "Requirement already satisfied: numpy>=1.17 in /usr/local/lib/python3.8/dist-packages (from transformers) (1.21.6)\n",
            "Requirement already satisfied: tokenizers!=0.11.3,<0.14,>=0.11.1 in /usr/local/lib/python3.8/dist-packages (from transformers) (0.13.2)\n",
            "Requirement already satisfied: filelock in /usr/local/lib/python3.8/dist-packages (from transformers) (3.8.2)\n",
            "Requirement already satisfied: regex!=2019.12.17 in /usr/local/lib/python3.8/dist-packages (from transformers) (2022.6.2)\n",
            "Requirement already satisfied: tqdm>=4.27 in /usr/local/lib/python3.8/dist-packages (from transformers) (4.64.1)\n",
            "Requirement already satisfied: packaging>=20.0 in /usr/local/lib/python3.8/dist-packages (from transformers) (21.3)\n",
            "Requirement already satisfied: requests in /usr/local/lib/python3.8/dist-packages (from transformers) (2.25.1)\n",
            "Requirement already satisfied: typing-extensions>=3.7.4.3 in /usr/local/lib/python3.8/dist-packages (from huggingface-hub<1.0,>=0.10.0->transformers) (4.4.0)\n",
            "Requirement already satisfied: pyparsing!=3.0.5,>=2.0.2 in /usr/local/lib/python3.8/dist-packages (from packaging>=20.0->transformers) (3.0.9)\n",
            "Requirement already satisfied: chardet<5,>=3.0.2 in /usr/local/lib/python3.8/dist-packages (from requests->transformers) (4.0.0)\n",
            "Requirement already satisfied: certifi>=2017.4.17 in /usr/local/lib/python3.8/dist-packages (from requests->transformers) (2022.12.7)\n",
            "Requirement already satisfied: urllib3<1.27,>=1.21.1 in /usr/local/lib/python3.8/dist-packages (from requests->transformers) (1.24.3)\n",
            "Requirement already satisfied: idna<3,>=2.5 in /usr/local/lib/python3.8/dist-packages (from requests->transformers) (2.10)\n"
          ]
        }
      ]
    },
    {
      "cell_type": "code",
      "source": [
        "# Load tokenizer & fine-tuned model\n",
        "tokenizer = BertTokenizer.from_pretrained('bert-base-uncased', do_lower_case=True)\n",
        "print(\"=== BERT tokenizer loaded. ===\")\n",
        "fine_tuned_model = BertForSequenceClassification.from_pretrained(\n",
        "    \"/content/drive/MyDrive/DataScience/DS2/acc_models_0.51_0.49_warmup100_2e-5_666\", \n",
        "    num_labels = 8\n",
        ")\n",
        "print(\"=== Fine-tuned model loaded. ===\")"
      ],
      "metadata": {
        "colab": {
          "base_uri": "https://localhost:8080/"
        },
        "id": "IS9RRj-Bl9nY",
        "outputId": "e23b7dd6-821c-498f-de2a-38dd54a04678"
      },
      "execution_count": 45,
      "outputs": [
        {
          "output_type": "stream",
          "name": "stdout",
          "text": [
            "=== BERT tokenizer loaded. ===\n",
            "=== Fine-tuned model loaded. ===\n"
          ]
        }
      ]
    },
    {
      "cell_type": "code",
      "source": [
        "# Let users input their skills and turn the input into tokens\n",
        "input_skills = input(\"\\n\\nPlease input your skills: \")\n",
        "encodings = tokenizer.encode_plus(\n",
        "    input_skills,\n",
        "    # None,\n",
        "    add_special_tokens=True,\n",
        "    max_length = 512,           # Pad & truncate all sentences.\n",
        "    pad_to_max_length = True,\n",
        "    # truncation=True,\n",
        "    return_attention_mask = True,   # Construct attn. masks.\n",
        "    return_tensors = 'pt',\n",
        ")"
      ],
      "metadata": {
        "colab": {
          "base_uri": "https://localhost:8080/"
        },
        "id": "gGUhubB4nCLo",
        "outputId": "50db977f-992f-47b1-e731-bd39b2422c50"
      },
      "execution_count": 146,
      "outputs": [
        {
          "name": "stdout",
          "output_type": "stream",
          "text": [
            "\n",
            "\n",
            "Please input your skills: education, math, python, leadership\n"
          ]
        },
        {
          "output_type": "stream",
          "name": "stderr",
          "text": [
            "/usr/local/lib/python3.8/dist-packages/transformers/tokenization_utils_base.py:2336: FutureWarning: The `pad_to_max_length` argument is deprecated and will be removed in a future version, use `padding=True` or `padding='longest'` to pad to the longest sequence in the batch, or use `padding='max_length'` to pad to a max length. In this case, you can give a specific length with `max_length` (e.g. `max_length=45`) or leave max_length to None to pad to the maximal input size of the model (e.g. 512 for Bert).\n",
            "  warnings.warn(\n"
          ]
        }
      ]
    },
    {
      "cell_type": "code",
      "source": [
        "labels = ['Managers',\n",
        " 'Professionals',\n",
        " 'Service and sales workers',\n",
        " 'Plant and machine operators and assemblers',\n",
        " 'Craft and related trades workers',\n",
        " 'Technicians and associate professionals',\n",
        " 'Clerical support workers',\n",
        " 'Elementary occupations']"
      ],
      "metadata": {
        "id": "rH_klIRNpZtf"
      },
      "execution_count": 147,
      "outputs": []
    },
    {
      "cell_type": "code",
      "source": [
        "fine_tuned_model.eval()\n",
        "with torch.no_grad():\n",
        "    input_ids=encodings.input_ids\n",
        "    attention_mask=encodings.attention_mask\n",
        "    token_type_ids=encodings.token_type_ids\n",
        "    output=fine_tuned_model(input_ids, attention_mask, token_type_ids)\n",
        "    final_output = torch.sigmoid(output.logits).cpu().detach().numpy().tolist()\n",
        "    print(int(np.argmax(final_output, axis=1)))"
      ],
      "metadata": {
        "colab": {
          "base_uri": "https://localhost:8080/"
        },
        "id": "JcrLJRz2pmCi",
        "outputId": "0ff83dd8-c7ab-4cac-c62d-9695a75947d4"
      },
      "execution_count": 148,
      "outputs": [
        {
          "output_type": "stream",
          "name": "stdout",
          "text": [
            "1\n"
          ]
        }
      ]
    },
    {
      "cell_type": "code",
      "source": [
        "final_output"
      ],
      "metadata": {
        "colab": {
          "base_uri": "https://localhost:8080/"
        },
        "id": "WxtikOqsraDi",
        "outputId": "f860f35c-1a98-46e2-8ee2-7c2f8c41307c"
      },
      "execution_count": 149,
      "outputs": [
        {
          "output_type": "execute_result",
          "data": {
            "text/plain": [
              "[[0.7831828594207764,\n",
              "  0.974862277507782,\n",
              "  0.6745386123657227,\n",
              "  0.49678298830986023,\n",
              "  0.7063820958137512,\n",
              "  0.14812183380126953,\n",
              "  0.07069255411624908,\n",
              "  0.07306355983018875]]"
            ]
          },
          "metadata": {},
          "execution_count": 149
        }
      ]
    },
    {
      "cell_type": "code",
      "source": [
        "from itertools import chain\n",
        "probabilities=list(chain.from_iterable(final_output))\n",
        "predictions = dict(zip(labels,probabilities))\n",
        "pred_label = max(predictions, key=predictions.get)\n",
        "pred_label"
      ],
      "metadata": {
        "colab": {
          "base_uri": "https://localhost:8080/",
          "height": 35
        },
        "id": "CRy3jVt7rhCy",
        "outputId": "20bcf1df-8014-4eeb-8707-aca39800d314"
      },
      "execution_count": 150,
      "outputs": [
        {
          "output_type": "execute_result",
          "data": {
            "text/plain": [
              "'Professionals'"
            ],
            "application/vnd.google.colaboratory.intrinsic+json": {
              "type": "string"
            }
          },
          "metadata": {},
          "execution_count": 150
        }
      ]
    },
    {
      "cell_type": "code",
      "source": [
        "import pandas as pd\n",
        "job_df = pd.read_csv('/content/drive/MyDrive/DS2/clean_dataset_1794.csv')\n",
        "category_df = job_df[job_df['job category'] == str(pred_label)]\n",
        "display(category_df)"
      ],
      "metadata": {
        "colab": {
          "base_uri": "https://localhost:8080/",
          "height": 424
        },
        "id": "9nRjhbzgE2Me",
        "outputId": "ecf4e897-39fd-4eb7-9b75-812bd0815809"
      },
      "execution_count": 151,
      "outputs": [
        {
          "output_type": "display_data",
          "data": {
            "text/plain": [
              "      Unnamed: 0                            salary  \\\n",
              "1              1            $19.00 - $26.00 / hour   \n",
              "2              2  $106,250.00 - $125,000.00 / year   \n",
              "5              5   $65,000.00 - $120,000.00 / year   \n",
              "7              7   $85,000.00 - $146,100.00 / year   \n",
              "13            13            $20.00 - $25.00 / hour   \n",
              "...          ...                               ...   \n",
              "1780        1786                               NaN   \n",
              "1785        1791                               NaN   \n",
              "1788        1794                               NaN   \n",
              "1791        1797                               NaN   \n",
              "1793        1799                               NaN   \n",
              "\n",
              "                                     title   job category  \\\n",
              "1     Teacher of English for Online Groups  Professionals   \n",
              "2                      CRM / PHP Developer  Professionals   \n",
              "5       Financial advisor/ Insurance Agent  Professionals   \n",
              "7                Network Security Engineer  Professionals   \n",
              "13                        Business Analyst  Professionals   \n",
              "...                                    ...            ...   \n",
              "1780        Predictive Modeling Analyst IV  Professionals   \n",
              "1785              Sr Reimbursement Analyst  Professionals   \n",
              "1788         Peer Recovery Facilitator-DAS  Professionals   \n",
              "1791  Human Resources Recruiter ( REMOTE )  Professionals   \n",
              "1793   Business Development Representative  Professionals   \n",
              "\n",
              "                                                 skills  labels  \n",
              "1     Vocabularies, Grammars, Teaching, Lesson Plann...       1  \n",
              "2     PHP (Scripting Language), Debugging, Web Servi...       1  \n",
              "5     Self Motivation, Positive Attitude, Attention ...       1  \n",
              "7     Certified Information Security Manager, EC Cou...       1  \n",
              "13    Attention To Detail, Positive Attitude, Schedu...       1  \n",
              "...                                                 ...     ...  \n",
              "1780  Scheduling, Data Mining, Predictive Analytics,...       1  \n",
              "1785  Accounting, Auditing, Finance, Chargemaster, I...       1  \n",
              "1788                     Mental Health, Substance Abuse       1  \n",
              "1791  Recruitment, Complex Problem Solving, Leadersh...       1  \n",
              "1793  Vehicle Insurance, Service Accounts, Passionat...       1  \n",
              "\n",
              "[503 rows x 6 columns]"
            ],
            "text/html": [
              "\n",
              "  <div id=\"df-c5f2c553-cd39-412d-b562-183f5ec1ea3f\">\n",
              "    <div class=\"colab-df-container\">\n",
              "      <div>\n",
              "<style scoped>\n",
              "    .dataframe tbody tr th:only-of-type {\n",
              "        vertical-align: middle;\n",
              "    }\n",
              "\n",
              "    .dataframe tbody tr th {\n",
              "        vertical-align: top;\n",
              "    }\n",
              "\n",
              "    .dataframe thead th {\n",
              "        text-align: right;\n",
              "    }\n",
              "</style>\n",
              "<table border=\"1\" class=\"dataframe\">\n",
              "  <thead>\n",
              "    <tr style=\"text-align: right;\">\n",
              "      <th></th>\n",
              "      <th>Unnamed: 0</th>\n",
              "      <th>salary</th>\n",
              "      <th>title</th>\n",
              "      <th>job category</th>\n",
              "      <th>skills</th>\n",
              "      <th>labels</th>\n",
              "    </tr>\n",
              "  </thead>\n",
              "  <tbody>\n",
              "    <tr>\n",
              "      <th>1</th>\n",
              "      <td>1</td>\n",
              "      <td>$19.00 - $26.00 / hour</td>\n",
              "      <td>Teacher of English for Online Groups</td>\n",
              "      <td>Professionals</td>\n",
              "      <td>Vocabularies, Grammars, Teaching, Lesson Plann...</td>\n",
              "      <td>1</td>\n",
              "    </tr>\n",
              "    <tr>\n",
              "      <th>2</th>\n",
              "      <td>2</td>\n",
              "      <td>$106,250.00 - $125,000.00 / year</td>\n",
              "      <td>CRM / PHP Developer</td>\n",
              "      <td>Professionals</td>\n",
              "      <td>PHP (Scripting Language), Debugging, Web Servi...</td>\n",
              "      <td>1</td>\n",
              "    </tr>\n",
              "    <tr>\n",
              "      <th>5</th>\n",
              "      <td>5</td>\n",
              "      <td>$65,000.00 - $120,000.00 / year</td>\n",
              "      <td>Financial advisor/ Insurance Agent</td>\n",
              "      <td>Professionals</td>\n",
              "      <td>Self Motivation, Positive Attitude, Attention ...</td>\n",
              "      <td>1</td>\n",
              "    </tr>\n",
              "    <tr>\n",
              "      <th>7</th>\n",
              "      <td>7</td>\n",
              "      <td>$85,000.00 - $146,100.00 / year</td>\n",
              "      <td>Network Security Engineer</td>\n",
              "      <td>Professionals</td>\n",
              "      <td>Certified Information Security Manager, EC Cou...</td>\n",
              "      <td>1</td>\n",
              "    </tr>\n",
              "    <tr>\n",
              "      <th>13</th>\n",
              "      <td>13</td>\n",
              "      <td>$20.00 - $25.00 / hour</td>\n",
              "      <td>Business Analyst</td>\n",
              "      <td>Professionals</td>\n",
              "      <td>Attention To Detail, Positive Attitude, Schedu...</td>\n",
              "      <td>1</td>\n",
              "    </tr>\n",
              "    <tr>\n",
              "      <th>...</th>\n",
              "      <td>...</td>\n",
              "      <td>...</td>\n",
              "      <td>...</td>\n",
              "      <td>...</td>\n",
              "      <td>...</td>\n",
              "      <td>...</td>\n",
              "    </tr>\n",
              "    <tr>\n",
              "      <th>1780</th>\n",
              "      <td>1786</td>\n",
              "      <td>NaN</td>\n",
              "      <td>Predictive Modeling Analyst IV</td>\n",
              "      <td>Professionals</td>\n",
              "      <td>Scheduling, Data Mining, Predictive Analytics,...</td>\n",
              "      <td>1</td>\n",
              "    </tr>\n",
              "    <tr>\n",
              "      <th>1785</th>\n",
              "      <td>1791</td>\n",
              "      <td>NaN</td>\n",
              "      <td>Sr Reimbursement Analyst</td>\n",
              "      <td>Professionals</td>\n",
              "      <td>Accounting, Auditing, Finance, Chargemaster, I...</td>\n",
              "      <td>1</td>\n",
              "    </tr>\n",
              "    <tr>\n",
              "      <th>1788</th>\n",
              "      <td>1794</td>\n",
              "      <td>NaN</td>\n",
              "      <td>Peer Recovery Facilitator-DAS</td>\n",
              "      <td>Professionals</td>\n",
              "      <td>Mental Health, Substance Abuse</td>\n",
              "      <td>1</td>\n",
              "    </tr>\n",
              "    <tr>\n",
              "      <th>1791</th>\n",
              "      <td>1797</td>\n",
              "      <td>NaN</td>\n",
              "      <td>Human Resources Recruiter ( REMOTE )</td>\n",
              "      <td>Professionals</td>\n",
              "      <td>Recruitment, Complex Problem Solving, Leadersh...</td>\n",
              "      <td>1</td>\n",
              "    </tr>\n",
              "    <tr>\n",
              "      <th>1793</th>\n",
              "      <td>1799</td>\n",
              "      <td>NaN</td>\n",
              "      <td>Business Development Representative</td>\n",
              "      <td>Professionals</td>\n",
              "      <td>Vehicle Insurance, Service Accounts, Passionat...</td>\n",
              "      <td>1</td>\n",
              "    </tr>\n",
              "  </tbody>\n",
              "</table>\n",
              "<p>503 rows × 6 columns</p>\n",
              "</div>\n",
              "      <button class=\"colab-df-convert\" onclick=\"convertToInteractive('df-c5f2c553-cd39-412d-b562-183f5ec1ea3f')\"\n",
              "              title=\"Convert this dataframe to an interactive table.\"\n",
              "              style=\"display:none;\">\n",
              "        \n",
              "  <svg xmlns=\"http://www.w3.org/2000/svg\" height=\"24px\"viewBox=\"0 0 24 24\"\n",
              "       width=\"24px\">\n",
              "    <path d=\"M0 0h24v24H0V0z\" fill=\"none\"/>\n",
              "    <path d=\"M18.56 5.44l.94 2.06.94-2.06 2.06-.94-2.06-.94-.94-2.06-.94 2.06-2.06.94zm-11 1L8.5 8.5l.94-2.06 2.06-.94-2.06-.94L8.5 2.5l-.94 2.06-2.06.94zm10 10l.94 2.06.94-2.06 2.06-.94-2.06-.94-.94-2.06-.94 2.06-2.06.94z\"/><path d=\"M17.41 7.96l-1.37-1.37c-.4-.4-.92-.59-1.43-.59-.52 0-1.04.2-1.43.59L10.3 9.45l-7.72 7.72c-.78.78-.78 2.05 0 2.83L4 21.41c.39.39.9.59 1.41.59.51 0 1.02-.2 1.41-.59l7.78-7.78 2.81-2.81c.8-.78.8-2.07 0-2.86zM5.41 20L4 18.59l7.72-7.72 1.47 1.35L5.41 20z\"/>\n",
              "  </svg>\n",
              "      </button>\n",
              "      \n",
              "  <style>\n",
              "    .colab-df-container {\n",
              "      display:flex;\n",
              "      flex-wrap:wrap;\n",
              "      gap: 12px;\n",
              "    }\n",
              "\n",
              "    .colab-df-convert {\n",
              "      background-color: #E8F0FE;\n",
              "      border: none;\n",
              "      border-radius: 50%;\n",
              "      cursor: pointer;\n",
              "      display: none;\n",
              "      fill: #1967D2;\n",
              "      height: 32px;\n",
              "      padding: 0 0 0 0;\n",
              "      width: 32px;\n",
              "    }\n",
              "\n",
              "    .colab-df-convert:hover {\n",
              "      background-color: #E2EBFA;\n",
              "      box-shadow: 0px 1px 2px rgba(60, 64, 67, 0.3), 0px 1px 3px 1px rgba(60, 64, 67, 0.15);\n",
              "      fill: #174EA6;\n",
              "    }\n",
              "\n",
              "    [theme=dark] .colab-df-convert {\n",
              "      background-color: #3B4455;\n",
              "      fill: #D2E3FC;\n",
              "    }\n",
              "\n",
              "    [theme=dark] .colab-df-convert:hover {\n",
              "      background-color: #434B5C;\n",
              "      box-shadow: 0px 1px 3px 1px rgba(0, 0, 0, 0.15);\n",
              "      filter: drop-shadow(0px 1px 2px rgba(0, 0, 0, 0.3));\n",
              "      fill: #FFFFFF;\n",
              "    }\n",
              "  </style>\n",
              "\n",
              "      <script>\n",
              "        const buttonEl =\n",
              "          document.querySelector('#df-c5f2c553-cd39-412d-b562-183f5ec1ea3f button.colab-df-convert');\n",
              "        buttonEl.style.display =\n",
              "          google.colab.kernel.accessAllowed ? 'block' : 'none';\n",
              "\n",
              "        async function convertToInteractive(key) {\n",
              "          const element = document.querySelector('#df-c5f2c553-cd39-412d-b562-183f5ec1ea3f');\n",
              "          const dataTable =\n",
              "            await google.colab.kernel.invokeFunction('convertToInteractive',\n",
              "                                                     [key], {});\n",
              "          if (!dataTable) return;\n",
              "\n",
              "          const docLinkHtml = 'Like what you see? Visit the ' +\n",
              "            '<a target=\"_blank\" href=https://colab.research.google.com/notebooks/data_table.ipynb>data table notebook</a>'\n",
              "            + ' to learn more about interactive tables.';\n",
              "          element.innerHTML = '';\n",
              "          dataTable['output_type'] = 'display_data';\n",
              "          await google.colab.output.renderOutput(dataTable, element);\n",
              "          const docLink = document.createElement('div');\n",
              "          docLink.innerHTML = docLinkHtml;\n",
              "          element.appendChild(docLink);\n",
              "        }\n",
              "      </script>\n",
              "    </div>\n",
              "  </div>\n",
              "  "
            ]
          },
          "metadata": {}
        }
      ]
    },
    {
      "cell_type": "code",
      "source": [
        "# SBERT for similarity matching\n",
        "!pip install -U sentence-transformers\n",
        "from sentence_transformers import SentenceTransformer\n",
        "sbert_model = SentenceTransformer('bert-base-nli-mean-tokens')"
      ],
      "metadata": {
        "colab": {
          "base_uri": "https://localhost:8080/"
        },
        "id": "38r6LM-FLDTH",
        "outputId": "008f710c-35d0-45c9-960c-4dcb5ebedd09"
      },
      "execution_count": 141,
      "outputs": [
        {
          "output_type": "stream",
          "name": "stdout",
          "text": [
            "Looking in indexes: https://pypi.org/simple, https://us-python.pkg.dev/colab-wheels/public/simple/\n",
            "Requirement already satisfied: sentence-transformers in /usr/local/lib/python3.8/dist-packages (2.2.2)\n",
            "Requirement already satisfied: scikit-learn in /usr/local/lib/python3.8/dist-packages (from sentence-transformers) (1.0.2)\n",
            "Requirement already satisfied: huggingface-hub>=0.4.0 in /usr/local/lib/python3.8/dist-packages (from sentence-transformers) (0.11.1)\n",
            "Requirement already satisfied: transformers<5.0.0,>=4.6.0 in /usr/local/lib/python3.8/dist-packages (from sentence-transformers) (4.25.1)\n",
            "Requirement already satisfied: torchvision in /usr/local/lib/python3.8/dist-packages (from sentence-transformers) (0.14.0+cu116)\n",
            "Requirement already satisfied: scipy in /usr/local/lib/python3.8/dist-packages (from sentence-transformers) (1.7.3)\n",
            "Requirement already satisfied: sentencepiece in /usr/local/lib/python3.8/dist-packages (from sentence-transformers) (0.1.97)\n",
            "Requirement already satisfied: tqdm in /usr/local/lib/python3.8/dist-packages (from sentence-transformers) (4.64.1)\n",
            "Requirement already satisfied: numpy in /usr/local/lib/python3.8/dist-packages (from sentence-transformers) (1.21.6)\n",
            "Requirement already satisfied: torch>=1.6.0 in /usr/local/lib/python3.8/dist-packages (from sentence-transformers) (1.13.0+cu116)\n",
            "Requirement already satisfied: nltk in /usr/local/lib/python3.8/dist-packages (from sentence-transformers) (3.7)\n",
            "Requirement already satisfied: requests in /usr/local/lib/python3.8/dist-packages (from huggingface-hub>=0.4.0->sentence-transformers) (2.25.1)\n",
            "Requirement already satisfied: filelock in /usr/local/lib/python3.8/dist-packages (from huggingface-hub>=0.4.0->sentence-transformers) (3.8.2)\n",
            "Requirement already satisfied: packaging>=20.9 in /usr/local/lib/python3.8/dist-packages (from huggingface-hub>=0.4.0->sentence-transformers) (21.3)\n",
            "Requirement already satisfied: typing-extensions>=3.7.4.3 in /usr/local/lib/python3.8/dist-packages (from huggingface-hub>=0.4.0->sentence-transformers) (4.4.0)\n",
            "Requirement already satisfied: pyyaml>=5.1 in /usr/local/lib/python3.8/dist-packages (from huggingface-hub>=0.4.0->sentence-transformers) (6.0)\n",
            "Requirement already satisfied: tokenizers!=0.11.3,<0.14,>=0.11.1 in /usr/local/lib/python3.8/dist-packages (from transformers<5.0.0,>=4.6.0->sentence-transformers) (0.13.2)\n",
            "Requirement already satisfied: regex!=2019.12.17 in /usr/local/lib/python3.8/dist-packages (from transformers<5.0.0,>=4.6.0->sentence-transformers) (2022.6.2)\n",
            "Requirement already satisfied: joblib in /usr/local/lib/python3.8/dist-packages (from nltk->sentence-transformers) (1.2.0)\n",
            "Requirement already satisfied: click in /usr/local/lib/python3.8/dist-packages (from nltk->sentence-transformers) (7.1.2)\n",
            "Requirement already satisfied: threadpoolctl>=2.0.0 in /usr/local/lib/python3.8/dist-packages (from scikit-learn->sentence-transformers) (3.1.0)\n",
            "Requirement already satisfied: pillow!=8.3.*,>=5.3.0 in /usr/local/lib/python3.8/dist-packages (from torchvision->sentence-transformers) (7.1.2)\n",
            "Requirement already satisfied: pyparsing!=3.0.5,>=2.0.2 in /usr/local/lib/python3.8/dist-packages (from packaging>=20.9->huggingface-hub>=0.4.0->sentence-transformers) (3.0.9)\n",
            "Requirement already satisfied: certifi>=2017.4.17 in /usr/local/lib/python3.8/dist-packages (from requests->huggingface-hub>=0.4.0->sentence-transformers) (2022.12.7)\n",
            "Requirement already satisfied: urllib3<1.27,>=1.21.1 in /usr/local/lib/python3.8/dist-packages (from requests->huggingface-hub>=0.4.0->sentence-transformers) (1.24.3)\n",
            "Requirement already satisfied: idna<3,>=2.5 in /usr/local/lib/python3.8/dist-packages (from requests->huggingface-hub>=0.4.0->sentence-transformers) (2.10)\n",
            "Requirement already satisfied: chardet<5,>=3.0.2 in /usr/local/lib/python3.8/dist-packages (from requests->huggingface-hub>=0.4.0->sentence-transformers) (4.0.0)\n"
          ]
        }
      ]
    },
    {
      "cell_type": "code",
      "source": [
        "# Generate embeddings of user's input\n",
        "input_embeddings = sbert_model.encode(input_skills)\n",
        "# Generate embeddings of skills of each job\n",
        "job_embeddings = []\n",
        "for skill in category_df['skills']:\n",
        "    job_embeddings.append(sbert_model.encode(skill))\n",
        "job_embeddings = np.array(job_embeddings)\n",
        "print(input_embeddings, '\\n')\n",
        "print(job_embeddings)"
      ],
      "metadata": {
        "colab": {
          "base_uri": "https://localhost:8080/"
        },
        "id": "WN1dRDMtPcct",
        "outputId": "8e820e56-b9dc-4e06-b54e-c0ef42e2ea93"
      },
      "execution_count": 152,
      "outputs": [
        {
          "output_type": "stream",
          "name": "stdout",
          "text": [
            "[-3.78561854e-01  7.74539411e-01  1.29693890e+00  1.72434166e-01\n",
            "  7.28741614e-03  1.93213716e-01  5.10211103e-02  1.33779037e+00\n",
            " -3.86799514e-01  9.50074643e-02 -5.65313578e-01  6.56979918e-01\n",
            "  3.83174509e-01  3.59270036e-01  3.16011570e-02  2.17214391e-01\n",
            " -4.61483806e-01 -7.47673810e-01  2.77953446e-01 -1.34245694e-01\n",
            " -4.27345306e-01 -1.11211747e-01 -1.52017191e-01 -4.59112704e-01\n",
            "  3.25013012e-01  6.80829167e-01 -1.41028449e-01 -2.00653523e-01\n",
            " -1.11735988e+00 -2.65522122e-01 -8.43747437e-01 -9.51119542e-01\n",
            "  1.36349142e+00 -1.76714465e-01  4.22209054e-01 -2.47856319e-01\n",
            "  1.73575461e-01  9.70276177e-01  1.24686416e-02 -8.07807222e-02\n",
            "  6.39228821e-01 -3.75214994e-01  4.73931104e-01  2.06603799e-02\n",
            " -1.00926173e+00 -2.52210408e-01 -4.99444485e-01  2.07805157e-01\n",
            " -6.27654433e-01 -5.98822117e-01 -1.25649047e+00  6.81016386e-01\n",
            "  5.37857890e-01 -4.19182897e-01 -5.46030402e-01  9.68302488e-02\n",
            "  1.58406436e+00 -1.32852495e+00  3.26640189e-01  1.72453672e-01\n",
            " -8.36882472e-01  6.15896821e-01 -5.24000406e-01  5.47249019e-01\n",
            " -4.38670784e-01  5.41010201e-01  7.95682371e-01  1.28264837e-02\n",
            " -8.94159436e-01 -6.81342363e-01  6.38379514e-01 -8.36344540e-01\n",
            " -8.77699316e-01  1.60432041e-01 -1.03565645e+00 -1.12454796e+00\n",
            " -4.45767120e-02  2.44616851e-01  1.21644866e+00  5.22062257e-02\n",
            "  5.02001047e-02  1.91986650e-01  1.07930207e+00 -5.57907581e-01\n",
            "  2.55387515e-01 -7.50679597e-02  5.27877569e-01  1.19304121e+00\n",
            " -6.94666088e-01 -4.09389555e-01  1.02660879e-01  5.06071746e-01\n",
            " -3.05736274e-01  6.31061316e-01 -2.98845977e-01 -8.82809162e-01\n",
            "  2.88406312e-01 -5.25817394e-01  6.79181963e-02 -1.21378422e-01\n",
            " -2.32876062e-01 -8.43845725e-01 -1.10871708e+00 -3.53424624e-02\n",
            " -2.17360094e-01  4.77480412e-01 -3.51536632e-01 -7.18719065e-02\n",
            " -1.48073149e+00  7.40160942e-01 -3.84090766e-02  6.04443960e-02\n",
            " -4.93684828e-01  5.49834609e-01 -6.34047508e-01 -1.90143123e-01\n",
            " -8.64997506e-02  2.64899850e-01 -7.53862187e-02  6.10993803e-01\n",
            "  7.37813056e-01  3.75622928e-01  6.21921301e-01 -2.36874416e-01\n",
            "  5.18811226e-01 -9.25569385e-02 -1.14504136e-01  3.64980429e-01\n",
            " -6.77129805e-01 -8.93239081e-02  7.57951856e-01  5.44346988e-01\n",
            "  1.98429632e+00 -3.51177961e-01  5.44621944e-01  2.85588205e-04\n",
            " -3.81168604e-01  1.63832873e-01 -1.48451209e-01 -1.04198627e-01\n",
            " -1.96477219e-01  1.93126947e-01  4.90905285e-01  1.42814159e-01\n",
            "  3.85797739e-01 -1.03837609e+00 -2.92445809e-01  1.27237961e-01\n",
            " -2.96833009e-01  8.05661201e-01 -9.37944174e-01  2.38221779e-01\n",
            " -2.07178259e+00 -1.29512823e+00 -9.95757639e-01  1.17493615e-01\n",
            " -1.11152518e+00  2.09007993e-01  1.08405933e-01  5.48675418e-01\n",
            "  3.35789695e-02  7.46073723e-01 -8.24059069e-01  2.01456144e-01\n",
            " -4.39612210e-01 -8.09214711e-01  2.64490128e-01 -1.27382612e+00\n",
            "  4.48867649e-01  1.12933290e+00 -2.64564663e-01 -8.50919262e-02\n",
            " -1.34825081e-01  9.56076920e-01 -3.67109984e-01 -5.26510298e-01\n",
            "  4.88405585e-01 -2.35705730e-02 -1.57429039e-01 -9.62160230e-01\n",
            "  5.85542440e-01 -2.63489723e-01 -2.34584942e-01 -9.21886444e-01\n",
            " -4.72130895e-01 -5.25319099e-01  7.46213615e-01 -1.16439238e-01\n",
            "  3.10252696e-01  3.07692111e-01 -3.55510831e-01 -4.20579672e-01\n",
            "  6.08988740e-02 -8.58738720e-01  9.24108505e-01 -1.24470621e-01\n",
            " -9.61273193e-01  1.21985340e+00 -3.89688075e-01  1.02791198e-01\n",
            "  3.14907461e-01 -1.50227889e-01  3.88562940e-02 -5.12856066e-01\n",
            "  2.66236335e-01  2.53726244e-01 -5.40446192e-02  4.44518775e-01\n",
            " -5.93666077e-01 -6.58292353e-01 -6.40314341e-01  7.56083727e-01\n",
            "  1.72994450e-01  4.76927131e-01  8.86572003e-01  2.12462366e-01\n",
            "  5.22729695e-01 -9.74493861e-01 -2.32349709e-01  8.70133877e-01\n",
            "  5.90087175e-01 -6.17929578e-01  4.07166988e-01  5.78503966e-01\n",
            " -6.07159853e-01  6.29921257e-01  6.52653754e-01 -1.34323701e-01\n",
            "  1.01923421e-01  8.71576190e-01  8.35042417e-01 -2.37762898e-01\n",
            " -6.23156168e-02  7.41639555e-01  7.86486864e-01 -5.13006568e-01\n",
            " -5.47332525e-01 -3.72009754e-01  1.40215576e-01  5.85593224e-01\n",
            "  1.13931812e-01  5.64722776e-01 -2.46281311e-01  3.42390835e-01\n",
            " -2.35374868e-01 -8.45593750e-01 -2.05623612e-01  2.61128694e-01\n",
            " -9.01292801e-01  1.19266748e-01 -7.31484294e-01 -7.63781786e-01\n",
            "  1.17513216e+00  4.08731520e-01  2.24516019e-02  2.12568462e-01\n",
            " -5.02103686e-01 -4.67152119e-01 -4.13817555e-01  4.45557386e-01\n",
            " -8.86308193e-01 -3.52290183e-01  1.80881619e-02 -2.89310247e-01\n",
            "  9.61162965e-04 -1.56012163e-01  1.64285973e-01 -6.91260919e-02\n",
            "  4.44451749e-01  1.72686189e-01 -5.06316423e-01 -3.93937469e-01\n",
            " -5.19176662e-01 -4.25533056e-01  1.88619807e-01 -1.12891483e+00\n",
            "  7.15074390e-02  4.05731387e-02 -3.45659792e-01 -8.08191955e-01\n",
            " -1.40738451e+00  1.30809054e-01 -4.94044363e-01  9.98917669e-02\n",
            "  3.88159901e-01  6.62034094e-01  3.72404337e-01 -1.06933355e+00\n",
            " -6.14401758e-01  5.00514746e-01  2.04280049e-01 -4.81680274e-01\n",
            " -9.79884863e-01 -6.66931510e-01  1.25456065e-01 -2.21509427e-01\n",
            "  5.62438250e-01 -1.91526580e+00  4.80386198e-01 -4.17518556e-01\n",
            " -2.59834230e-01  2.57054508e-01 -5.17810583e-01  7.30636835e-01\n",
            "  4.13198888e-01 -1.93503618e-01  7.56724060e-01 -2.94548064e-01\n",
            " -1.45671678e+00 -5.41919827e-01 -7.77208805e-01  1.36121377e-01\n",
            " -1.58286154e-01  9.30050552e-01 -3.09583873e-01  6.04390383e-01\n",
            " -1.05265984e-02 -4.24904585e-01 -7.08822489e-01 -9.93930399e-01\n",
            " -5.99483252e-01  1.05977774e+00  3.92392278e-01  9.33216929e-01\n",
            "  2.77015120e-01  2.14541048e-01  5.86831057e-03  4.55933779e-01\n",
            "  3.61555219e-01 -1.20714411e-01  6.20953321e-01 -1.52575925e-01\n",
            " -9.28448662e-02  7.32940257e-01 -9.05242085e-01  6.02861702e-01\n",
            " -4.92674619e-01 -1.11325875e-01  6.82871282e-01  3.01183581e-01\n",
            " -1.18904734e+00 -6.85656250e-01 -8.77523184e-01  5.23898959e-01\n",
            "  5.33418894e-01 -1.50216356e-01  8.91109705e-01 -1.34055257e-01\n",
            "  2.17921793e-01  5.62517405e-01  8.65021646e-02 -7.46379793e-02\n",
            " -2.47009099e-02  6.78906977e-01 -9.45225596e-01 -5.64123392e-01\n",
            " -2.11944729e-01  2.81299412e-01 -1.13820744e+00  7.59026825e-01\n",
            "  7.22895861e-01  9.90479469e-01 -1.52202800e-01 -9.38661039e-01\n",
            " -7.29625642e-01  4.62147385e-01  8.57652724e-02 -1.65108424e-02\n",
            "  7.70604610e-01  1.45426178e-02  3.58249903e-01 -9.26192939e-01\n",
            " -1.03813040e+00 -6.66141957e-02 -1.56468377e-01 -3.00363958e-01\n",
            "  5.98016791e-02 -8.39541972e-01  9.96824577e-02 -9.28319514e-01\n",
            " -3.56072694e-01 -8.39698493e-01  3.51987958e-01 -4.48795319e-01\n",
            " -6.86190307e-01  4.21862543e-01  5.73404133e-01  5.93752921e-01\n",
            " -2.13564280e-02 -1.52886361e-01  6.13395393e-01  3.58376294e-01\n",
            " -4.68087465e-01 -7.72200704e-01 -3.16398025e-01 -1.06639159e+00\n",
            " -2.85136211e-03  4.91553634e-01 -4.77693200e-01 -2.06443861e-01\n",
            " -1.61332220e-01 -4.64891456e-02  2.11956048e+00 -2.66254127e-01\n",
            "  1.68736055e-01 -1.17767286e+00  8.37637842e-01 -2.96795189e-01\n",
            " -7.99411535e-02 -5.11854470e-01 -4.71524186e-02 -2.45945930e-01\n",
            "  2.71707058e-01 -4.65900421e-01 -5.01668572e-01  6.65539026e-01\n",
            " -5.00568569e-01 -5.07481158e-01 -9.45602179e-01  8.72341454e-01\n",
            " -8.91293824e-01 -1.22822213e+00  1.39118031e-01  7.69520462e-01\n",
            " -1.43302128e-01  5.11092901e-01  2.95130350e-02 -6.26949131e-01\n",
            " -1.55410075e+00  1.34758368e-01  3.91770750e-01  7.92198703e-02\n",
            " -3.10676157e-01  5.23502976e-02  9.92569923e-01 -2.27212802e-01\n",
            "  6.33583784e-01 -1.21686786e-01  1.40320465e-01  3.62745285e-01\n",
            "  5.23321629e-02 -8.88858795e-01  8.84421170e-02 -5.88754863e-02\n",
            " -4.44697708e-01  3.78394663e-01 -6.60005538e-03  1.26558632e-01\n",
            "  3.57796639e-01 -1.90710634e-01 -1.31105989e-01  5.56568921e-01\n",
            "  2.57125646e-01 -6.33682132e-01  1.30943790e-01  1.00031030e+00\n",
            "  2.23293565e-02 -6.41977131e-01  1.33838076e-02 -4.85006310e-02\n",
            "  6.88561201e-01  3.53978164e-02  5.27949393e-01 -5.07003888e-02\n",
            "  3.61525238e-01  9.57741201e-01 -9.67480421e-01  5.69296002e-01\n",
            "  5.01096785e-01  2.92802662e-01 -3.78717482e-02 -4.19042930e-02\n",
            " -5.67122479e-04  3.47897559e-01  1.15058437e-01  3.44524115e-01\n",
            "  6.95495084e-02 -2.72761762e-01  5.36411524e-01 -4.61588383e-01\n",
            " -2.73445755e-01  9.26208198e-01 -1.72244042e-01  2.73419637e-02\n",
            " -6.72573626e-01 -1.18773513e-01 -1.83831930e-01  5.58582306e-01\n",
            "  9.21664774e-01 -1.44502676e+00  9.08862650e-02 -3.90872627e-01\n",
            " -6.92869961e-01 -4.99775946e-01 -1.55854195e-01 -3.05556029e-01\n",
            " -2.25673735e-01 -2.46646479e-01 -1.34302694e-02 -1.36862636e-01\n",
            "  9.38565910e-01  5.10749936e-01 -4.30248111e-01 -4.51638162e-01\n",
            "  1.39933157e+00  8.25311244e-01  2.03970701e-01 -7.99279094e-01\n",
            " -3.92783701e-01  3.34506810e-01 -8.94850850e-01 -5.07789068e-02\n",
            "  7.75333107e-01 -6.29928291e-01  1.56279191e-01 -5.27514875e-01\n",
            "  1.52226865e-01  3.21278036e-01  3.90913248e-01 -1.07703395e-02\n",
            "  1.00310576e+00 -2.86399573e-01 -2.40471184e-01 -5.41513026e-01\n",
            " -1.49346799e-01  1.05631399e+00  9.60437775e-01 -1.96697205e-01\n",
            "  2.26772279e-01 -1.28648520e-01 -4.43967938e-01 -3.84728789e-01\n",
            " -1.31835341e-01  2.83077598e-01 -2.57871747e-01  3.45397443e-01\n",
            " -3.17687452e-01 -8.73400271e-01  1.18163812e+00 -2.21688926e-01\n",
            "  1.12855300e-01  1.42752603e-01  4.05138463e-01 -5.18229127e-01\n",
            " -5.76401472e-01  2.57946819e-01  1.20840847e+00 -6.12680674e-01\n",
            " -4.13568974e-01 -8.74855220e-01  1.79035999e-02  9.23768952e-02\n",
            " -1.07162312e-01  5.20925403e-01 -7.01741457e-01 -1.95264399e-01\n",
            " -7.64874876e-01  5.40227234e-01  2.07342014e-01 -6.54268861e-01\n",
            "  9.73586619e-01 -8.12080279e-02 -4.31243569e-01  1.07779419e+00\n",
            " -6.13821566e-01 -6.66974068e-01  2.82614857e-01  2.84278303e-01\n",
            " -4.76529330e-01 -1.10925183e-01 -4.40804303e-01 -9.10525858e-01\n",
            " -3.33915412e-01  7.45671391e-01 -1.17995608e+00 -6.85199320e-01\n",
            "  6.32193744e-01 -2.57248700e-01 -2.60900617e-01 -4.19656277e-01\n",
            " -9.51082259e-02  6.26554430e-01  4.52569753e-01 -8.34778175e-02\n",
            "  1.17962442e-01 -3.19780916e-01  1.02508813e-01  1.55727118e-01\n",
            "  1.45659760e-01  1.04444730e+00  6.33857012e-01 -1.61619321e-01\n",
            "  2.88772643e-01 -7.08657026e-01  1.36055768e-01  3.11334997e-01\n",
            "  4.28590536e-01  1.38845468e+00 -2.73990929e-01  2.58198798e-01\n",
            "  2.99857408e-01 -1.64619410e+00 -1.09179628e+00  5.83413839e-01\n",
            "  2.38981307e-01  4.83089276e-02 -1.77380964e-01 -3.58624794e-02\n",
            " -8.88589993e-02  1.40292192e+00  1.02162313e+00 -5.35988688e-01\n",
            " -8.00609827e-01  3.77402425e-01 -5.23755908e-01 -1.13355428e-01\n",
            " -4.65727270e-01  3.22598577e-01 -6.65753722e-01  6.35851085e-01\n",
            " -1.24740347e-01 -2.72062570e-01 -1.75833046e-01  7.40463883e-02\n",
            "  5.85191585e-02 -1.32117558e+00  5.85593522e-01 -2.32966155e-01\n",
            "  2.00247258e-01  6.73254311e-01  7.29854584e-01 -4.75452207e-02\n",
            " -1.42906398e-01  1.87351435e-01 -1.60906672e-01  2.44717866e-01\n",
            " -8.06285322e-01  2.06454173e-01  1.13115206e-01  4.19744134e-01\n",
            " -9.00501311e-02 -4.42698330e-01 -1.08061671e-01 -6.14213884e-01\n",
            "  3.86988819e-01  7.64902890e-01  4.59723890e-01  1.29203749e+00\n",
            "  7.74735212e-01  5.73540330e-01  3.62206072e-01  7.46416599e-02\n",
            " -1.22255512e-01 -1.14351615e-01  8.62746894e-01  6.57708645e-01\n",
            " -2.64628053e-01 -5.22474088e-02  1.13266759e-01 -1.92889214e-01\n",
            "  1.83424354e-01  2.00874403e-01 -3.29074681e-01 -3.51377964e-01\n",
            "  1.09592426e+00  3.12868655e-01  8.46568406e-01  4.61664647e-02\n",
            "  6.54655322e-02 -5.09597361e-01  4.84276891e-01  5.01315117e-01\n",
            " -7.71725178e-01  4.13157076e-01  9.32758212e-01 -5.69214404e-01\n",
            "  1.24495733e+00  2.53752410e-01 -2.02750593e-01 -9.79143858e-01\n",
            " -1.08157396e+00  2.81566858e-01 -5.46490133e-01 -6.19472861e-01\n",
            "  1.80270106e-01  3.21742445e-01 -9.17615056e-01 -2.45278087e-02\n",
            "  1.34037960e+00 -2.93206483e-01  2.56718725e-01 -3.20522428e-01\n",
            "  7.65795887e-01 -2.41166726e-01  8.54094326e-02  5.12703776e-01\n",
            " -9.76376116e-01  4.66924459e-01 -6.77394569e-01  2.08737090e-01\n",
            "  2.37082303e-01  6.85612977e-01 -3.36886048e-01  6.27754807e-01\n",
            " -5.16612172e-01 -3.05594802e-02 -7.98085481e-02 -2.72931367e-01\n",
            "  2.01879799e-01  4.23197627e-01  8.45614314e-01  1.10320711e+00\n",
            "  5.21269202e-01  1.81610167e-01 -5.37133999e-02  2.06283733e-01\n",
            " -2.84526885e-01  4.19708453e-02  1.24473214e-01  1.94930732e-01\n",
            "  2.43583340e-02 -3.81441295e-01  7.24395335e-01  7.85167754e-01\n",
            " -5.74412107e-01 -2.20721930e-01 -7.24227726e-02  3.81359935e-01\n",
            " -4.17275786e-01 -7.55846918e-01  2.65295774e-01  2.61972517e-01\n",
            "  7.74289146e-02  4.11755919e-01  6.32371902e-01 -8.70878696e-01\n",
            " -1.54472873e-01 -6.75535262e-01 -2.86672443e-01 -3.57899547e-01\n",
            "  4.15655226e-02  6.70824945e-02 -6.31274655e-02 -2.27963313e-01\n",
            "  8.26406479e-02  8.27741325e-02 -1.54795498e-01  5.00666857e-01\n",
            " -8.81764710e-01 -2.69192159e-01  5.10293245e-01  6.89688772e-02\n",
            " -7.49739110e-02  3.17275405e-01 -4.45251584e-01 -2.63732314e-01\n",
            " -8.64766896e-01 -1.15319324e+00 -7.19557703e-02  5.54386199e-01\n",
            " -4.37490702e-01 -2.84688711e-01  2.40622148e-01 -8.09728742e-01\n",
            "  2.54405662e-02  4.64203417e-01  3.96244340e-02  6.38686359e-01] \n",
            "\n",
            "[[-0.7820464   0.47912365  1.5398345  ...  0.03557705 -0.89693695\n",
            "   0.4562071 ]\n",
            " [-0.29228094  0.67213553  1.3110989  ... -0.39060822 -0.76284474\n",
            "   0.60776484]\n",
            " [-0.25501555  0.56533283  1.2239501  ...  0.845356   -0.7616039\n",
            "  -0.11470851]\n",
            " ...\n",
            " [-0.06043743  0.46949887  1.3426297  ... -0.42045143 -0.91192234\n",
            "  -0.40908748]\n",
            " [-0.55502224  1.0780545   1.5733588  ... -0.74739933 -1.151982\n",
            "   0.07163944]\n",
            " [ 0.1838286   0.5782573   1.9899563  ... -0.78373253 -0.93396086\n",
            "  -0.41597304]]\n"
          ]
        }
      ]
    },
    {
      "cell_type": "code",
      "source": [
        "print(job_embeddings.shape)"
      ],
      "metadata": {
        "colab": {
          "base_uri": "https://localhost:8080/"
        },
        "id": "VKxnm9MmS54d",
        "outputId": "4236815a-b467-438f-d85c-a07eaaaa5d35"
      },
      "execution_count": 153,
      "outputs": [
        {
          "output_type": "stream",
          "name": "stdout",
          "text": [
            "(503, 768)\n"
          ]
        }
      ]
    },
    {
      "cell_type": "code",
      "source": [
        "from sklearn.metrics.pairwise import cosine_similarity\n",
        "for idx in range(job_embeddings.shape[0]):\n",
        "    matched = np.argsort(-cosine_similarity(input_embeddings.reshape(1, -1), job_embeddings)).reshape(-1,)"
      ],
      "metadata": {
        "id": "jL9lQ-WnR6Gm"
      },
      "execution_count": 154,
      "outputs": []
    },
    {
      "cell_type": "code",
      "source": [
        "display(\"Input: \", input_skills)\n",
        "display(category_df['title'].iloc[matched[:10]])"
      ],
      "metadata": {
        "colab": {
          "base_uri": "https://localhost:8080/",
          "height": 256
        },
        "id": "UgGRsQXZVGdX",
        "outputId": "1231a5f6-0011-4f63-9fed-b98581a0e45a"
      },
      "execution_count": 155,
      "outputs": [
        {
          "output_type": "display_data",
          "data": {
            "text/plain": [
              "'Input: '"
            ],
            "application/vnd.google.colaboratory.intrinsic+json": {
              "type": "string"
            }
          },
          "metadata": {}
        },
        {
          "output_type": "display_data",
          "data": {
            "text/plain": [
              "'education, math, python, leadership'"
            ],
            "application/vnd.google.colaboratory.intrinsic+json": {
              "type": "string"
            }
          },
          "metadata": {}
        },
        {
          "output_type": "display_data",
          "data": {
            "text/plain": [
              "577                                     Data Scientist II\n",
              "1379                               Backend Java Developer\n",
              "789     Software Developer to Salesforce: Paid Trainin...\n",
              "1119                         Quantitative Finance Analyst\n",
              "912     Infant and Toddler Teacher – Early Childhood E...\n",
              "1440                                          Co-Op - COL\n",
              "410                DevOps Engineer | $120k | Richmond, VA\n",
              "1087    Senior Software Engineer - Customer Care Self-...\n",
              "510                             Certification Coordinator\n",
              "2                                     CRM / PHP Developer\n",
              "Name: title, dtype: object"
            ]
          },
          "metadata": {}
        }
      ]
    }
  ]
}