{
  "nbformat": 4,
  "nbformat_minor": 0,
  "metadata": {
    "colab": {
      "provenance": [],
      "authorship_tag": "ABX9TyPLhzPENI4C+IljOFNqH2gF",
      "include_colab_link": true
    },
    "kernelspec": {
      "name": "python3",
      "display_name": "Python 3"
    },
    "language_info": {
      "name": "python"
    }
  },
  "cells": [
    {
      "cell_type": "markdown",
      "metadata": {
        "id": "view-in-github",
        "colab_type": "text"
      },
      "source": [
        "<a href=\"https://colab.research.google.com/github/JYP97/DS2_Proj_Jobs_skills_analysis/blob/master/BERT_BACKEND_TEST.ipynb\" target=\"_parent\"><img src=\"https://colab.research.google.com/assets/colab-badge.svg\" alt=\"Open In Colab\"/></a>"
      ]
    },
    {
      "cell_type": "code",
      "execution_count": 151,
      "metadata": {
        "colab": {
          "base_uri": "https://localhost:8080/"
        },
        "id": "ih_fnZzilHb3",
        "outputId": "d6801ca3-98d6-4a82-c601-30286980f894"
      },
      "outputs": [
        {
          "output_type": "stream",
          "name": "stdout",
          "text": [
            "Drive already mounted at /content/drive; to attempt to forcibly remount, call drive.mount(\"/content/drive\", force_remount=True).\n"
          ]
        }
      ],
      "source": [
        "from google.colab import drive\n",
        "drive.mount('/content/drive')"
      ]
    },
    {
      "cell_type": "code",
      "source": [
        "# Dependencies\n",
        "!pip install transformers\n",
        "!pip install -U sentence-transformers\n",
        "from transformers import BertTokenizer, BertForSequenceClassification\n",
        "import torch\n",
        "import numpy as np\n",
        "from itertools import chain\n",
        "import pandas as pd\n",
        "from sentence_transformers import SentenceTransformer\n",
        "from sklearn.metrics.pairwise import cosine_similarity\n",
        "import collections\n",
        "import math"
      ],
      "metadata": {
        "colab": {
          "base_uri": "https://localhost:8080/"
        },
        "id": "H1oivP6Xl4NB",
        "outputId": "c38dc284-50bd-45f0-ff80-dfd1ab9a838e"
      },
      "execution_count": 152,
      "outputs": [
        {
          "output_type": "stream",
          "name": "stdout",
          "text": [
            "Looking in indexes: https://pypi.org/simple, https://us-python.pkg.dev/colab-wheels/public/simple/\n",
            "Requirement already satisfied: transformers in /usr/local/lib/python3.8/dist-packages (4.25.1)\n",
            "Requirement already satisfied: filelock in /usr/local/lib/python3.8/dist-packages (from transformers) (3.8.2)\n",
            "Requirement already satisfied: numpy>=1.17 in /usr/local/lib/python3.8/dist-packages (from transformers) (1.21.6)\n",
            "Requirement already satisfied: regex!=2019.12.17 in /usr/local/lib/python3.8/dist-packages (from transformers) (2022.6.2)\n",
            "Requirement already satisfied: huggingface-hub<1.0,>=0.10.0 in /usr/local/lib/python3.8/dist-packages (from transformers) (0.11.1)\n",
            "Requirement already satisfied: requests in /usr/local/lib/python3.8/dist-packages (from transformers) (2.25.1)\n",
            "Requirement already satisfied: tokenizers!=0.11.3,<0.14,>=0.11.1 in /usr/local/lib/python3.8/dist-packages (from transformers) (0.13.2)\n",
            "Requirement already satisfied: tqdm>=4.27 in /usr/local/lib/python3.8/dist-packages (from transformers) (4.64.1)\n",
            "Requirement already satisfied: packaging>=20.0 in /usr/local/lib/python3.8/dist-packages (from transformers) (21.3)\n",
            "Requirement already satisfied: pyyaml>=5.1 in /usr/local/lib/python3.8/dist-packages (from transformers) (6.0)\n",
            "Requirement already satisfied: typing-extensions>=3.7.4.3 in /usr/local/lib/python3.8/dist-packages (from huggingface-hub<1.0,>=0.10.0->transformers) (4.4.0)\n",
            "Requirement already satisfied: pyparsing!=3.0.5,>=2.0.2 in /usr/local/lib/python3.8/dist-packages (from packaging>=20.0->transformers) (3.0.9)\n",
            "Requirement already satisfied: certifi>=2017.4.17 in /usr/local/lib/python3.8/dist-packages (from requests->transformers) (2022.12.7)\n",
            "Requirement already satisfied: chardet<5,>=3.0.2 in /usr/local/lib/python3.8/dist-packages (from requests->transformers) (4.0.0)\n",
            "Requirement already satisfied: idna<3,>=2.5 in /usr/local/lib/python3.8/dist-packages (from requests->transformers) (2.10)\n",
            "Requirement already satisfied: urllib3<1.27,>=1.21.1 in /usr/local/lib/python3.8/dist-packages (from requests->transformers) (1.24.3)\n",
            "Looking in indexes: https://pypi.org/simple, https://us-python.pkg.dev/colab-wheels/public/simple/\n",
            "Requirement already satisfied: sentence-transformers in /usr/local/lib/python3.8/dist-packages (2.2.2)\n",
            "Requirement already satisfied: torchvision in /usr/local/lib/python3.8/dist-packages (from sentence-transformers) (0.14.0+cu116)\n",
            "Requirement already satisfied: huggingface-hub>=0.4.0 in /usr/local/lib/python3.8/dist-packages (from sentence-transformers) (0.11.1)\n",
            "Requirement already satisfied: scipy in /usr/local/lib/python3.8/dist-packages (from sentence-transformers) (1.7.3)\n",
            "Requirement already satisfied: numpy in /usr/local/lib/python3.8/dist-packages (from sentence-transformers) (1.21.6)\n",
            "Requirement already satisfied: transformers<5.0.0,>=4.6.0 in /usr/local/lib/python3.8/dist-packages (from sentence-transformers) (4.25.1)\n",
            "Requirement already satisfied: tqdm in /usr/local/lib/python3.8/dist-packages (from sentence-transformers) (4.64.1)\n",
            "Requirement already satisfied: torch>=1.6.0 in /usr/local/lib/python3.8/dist-packages (from sentence-transformers) (1.13.0+cu116)\n",
            "Requirement already satisfied: sentencepiece in /usr/local/lib/python3.8/dist-packages (from sentence-transformers) (0.1.97)\n",
            "Requirement already satisfied: scikit-learn in /usr/local/lib/python3.8/dist-packages (from sentence-transformers) (1.0.2)\n",
            "Requirement already satisfied: nltk in /usr/local/lib/python3.8/dist-packages (from sentence-transformers) (3.7)\n",
            "Requirement already satisfied: filelock in /usr/local/lib/python3.8/dist-packages (from huggingface-hub>=0.4.0->sentence-transformers) (3.8.2)\n",
            "Requirement already satisfied: requests in /usr/local/lib/python3.8/dist-packages (from huggingface-hub>=0.4.0->sentence-transformers) (2.25.1)\n",
            "Requirement already satisfied: packaging>=20.9 in /usr/local/lib/python3.8/dist-packages (from huggingface-hub>=0.4.0->sentence-transformers) (21.3)\n",
            "Requirement already satisfied: typing-extensions>=3.7.4.3 in /usr/local/lib/python3.8/dist-packages (from huggingface-hub>=0.4.0->sentence-transformers) (4.4.0)\n",
            "Requirement already satisfied: pyyaml>=5.1 in /usr/local/lib/python3.8/dist-packages (from huggingface-hub>=0.4.0->sentence-transformers) (6.0)\n",
            "Requirement already satisfied: regex!=2019.12.17 in /usr/local/lib/python3.8/dist-packages (from transformers<5.0.0,>=4.6.0->sentence-transformers) (2022.6.2)\n",
            "Requirement already satisfied: tokenizers!=0.11.3,<0.14,>=0.11.1 in /usr/local/lib/python3.8/dist-packages (from transformers<5.0.0,>=4.6.0->sentence-transformers) (0.13.2)\n",
            "Requirement already satisfied: click in /usr/local/lib/python3.8/dist-packages (from nltk->sentence-transformers) (7.1.2)\n",
            "Requirement already satisfied: joblib in /usr/local/lib/python3.8/dist-packages (from nltk->sentence-transformers) (1.2.0)\n",
            "Requirement already satisfied: threadpoolctl>=2.0.0 in /usr/local/lib/python3.8/dist-packages (from scikit-learn->sentence-transformers) (3.1.0)\n",
            "Requirement already satisfied: pillow!=8.3.*,>=5.3.0 in /usr/local/lib/python3.8/dist-packages (from torchvision->sentence-transformers) (7.1.2)\n",
            "Requirement already satisfied: pyparsing!=3.0.5,>=2.0.2 in /usr/local/lib/python3.8/dist-packages (from packaging>=20.9->huggingface-hub>=0.4.0->sentence-transformers) (3.0.9)\n",
            "Requirement already satisfied: idna<3,>=2.5 in /usr/local/lib/python3.8/dist-packages (from requests->huggingface-hub>=0.4.0->sentence-transformers) (2.10)\n",
            "Requirement already satisfied: urllib3<1.27,>=1.21.1 in /usr/local/lib/python3.8/dist-packages (from requests->huggingface-hub>=0.4.0->sentence-transformers) (1.24.3)\n",
            "Requirement already satisfied: chardet<5,>=3.0.2 in /usr/local/lib/python3.8/dist-packages (from requests->huggingface-hub>=0.4.0->sentence-transformers) (4.0.0)\n",
            "Requirement already satisfied: certifi>=2017.4.17 in /usr/local/lib/python3.8/dist-packages (from requests->huggingface-hub>=0.4.0->sentence-transformers) (2022.12.7)\n"
          ]
        }
      ]
    },
    {
      "cell_type": "code",
      "source": [
        "# Phrase 0: Load tokenizer & models\n",
        "\n",
        "tokenizer = BertTokenizer.from_pretrained('bert-base-uncased', do_lower_case=True)\n",
        "print(\"=== BERT base tokenizer loaded. ===\")\n",
        "\n",
        "fine_tuned_model = BertForSequenceClassification.from_pretrained(\n",
        "    \"/content/drive/MyDrive/DataScience/DS2/acc_models_0.51_0.49_warmup100_2e-5_666\", \n",
        "    num_labels = 8\n",
        ")\n",
        "print(\"=== Fine-tuned model loaded. ===\")\n",
        "\n",
        "sbert_model = SentenceTransformer('bert-base-nli-mean-tokens')\n",
        "print(\"=== Sentence BERT loaded. ===\")\n",
        "\n",
        "job_df = pd.read_csv('/content/drive/MyDrive/DS2/clean_dataset_1794.csv', index_col=0).reset_index(drop=True)\n",
        "print(\"=== Job dataset loaded. ===\")\n",
        "\n",
        "job_emb = np.array(pd.read_csv('/content/drive/MyDrive/DS2/job_emb.csv', header=None).to_numpy())\n",
        "print(\"=== Pre-calculated job skill embeddings loaded. ===\")"
      ],
      "metadata": {
        "colab": {
          "base_uri": "https://localhost:8080/"
        },
        "id": "IS9RRj-Bl9nY",
        "outputId": "11b9c44c-d097-4a7f-dca4-de8b63f10d65"
      },
      "execution_count": 154,
      "outputs": [
        {
          "output_type": "stream",
          "name": "stdout",
          "text": [
            "=== BERT base tokenizer loaded. ===\n",
            "=== Fine-tuned model loaded. ===\n",
            "=== Sentence BERT loaded. ===\n",
            "=== Job dataset loaded. ===\n",
            "=== Pre-calculated job skill embeddings loaded. ===\n"
          ]
        }
      ]
    },
    {
      "cell_type": "code",
      "source": [
        "from pandas.io.formats.style_render import defaultdict\n",
        "# Phrase I: Map user input skills to job category\n",
        "\n",
        "# User input\n",
        "# Method A\n",
        "# input_skills = input(\"\\n\\nPlease input your skills: \") # only one string in this list\n",
        "\n",
        "# Method B\n",
        "rank = 1\n",
        "# input_skills for outputing category\n",
        "input_skills = [] # if there are n skills, n strings will be in this list\n",
        "weights = []\n",
        "weight_exp = 7\n",
        "# input_dict for percise matching\n",
        "input_dict = defaultdict(list) # key: weight, value: input_skill\n",
        "print(\"Please input your skills with the order of proficiency, enter q to quit: \")\n",
        "\n",
        "# Input loop\n",
        "while(True):\n",
        "    print(f\"Your {rank}. proficient skill: \")\n",
        "    input_value = input()\n",
        "    if input_value == 'q':\n",
        "        print(\"Quit\")\n",
        "        break\n",
        "    input_skills.append(input_value)\n",
        "    weights.append(math.exp(weight_exp))\n",
        "    rank += 1\n",
        "    weight_exp -= 0.4\n",
        "    if weight_exp <= 0:\n",
        "        print(\"Exceeds input limit, quit...\")\n",
        "        break\n",
        "\n",
        "# Generate a defaultdict with type of list\n",
        "for key, value in zip(weights, input_skills):\n",
        "    input_dict[key].append(value)\n"
      ],
      "metadata": {
        "colab": {
          "base_uri": "https://localhost:8080/"
        },
        "id": "ILQZywyu9_Po",
        "outputId": "2ae20118-8e76-4ebb-8557-5b877e5225a6"
      },
      "execution_count": 287,
      "outputs": [
        {
          "output_type": "stream",
          "name": "stdout",
          "text": [
            "Please input your skills with the order of proficiency, enter q to quit: \n",
            "Your 1. proficient skill: \n",
            "manager\n",
            "Your 2. proficient skill: \n",
            "group management \n",
            "Your 3. proficient skill: \n",
            "communication\n",
            "Your 4. proficient skill: \n",
            "leadership\n",
            "Your 5. proficient skill: \n",
            "q\n",
            "Quit\n"
          ]
        }
      ]
    },
    {
      "cell_type": "code",
      "source": [
        "input_skills"
      ],
      "metadata": {
        "colab": {
          "base_uri": "https://localhost:8080/"
        },
        "id": "Xsa3KGUmtcyg",
        "outputId": "cbb2d2bc-95cd-4e80-834e-c69b17adf4f2"
      },
      "execution_count": 288,
      "outputs": [
        {
          "output_type": "execute_result",
          "data": {
            "text/plain": [
              "['manager', 'group management ', 'communication', 'leadership']"
            ]
          },
          "metadata": {},
          "execution_count": 288
        }
      ]
    },
    {
      "cell_type": "code",
      "source": [
        "input_skills_join = (', '.join(input_skills))\n",
        "input_skills_join"
      ],
      "metadata": {
        "colab": {
          "base_uri": "https://localhost:8080/",
          "height": 35
        },
        "id": "Zm319g8cwcYP",
        "outputId": "a0c8c9ee-aaec-4c58-bc09-40ef490693d6"
      },
      "execution_count": 289,
      "outputs": [
        {
          "output_type": "execute_result",
          "data": {
            "text/plain": [
              "'manager, group management , communication, leadership'"
            ],
            "application/vnd.google.colaboratory.intrinsic+json": {
              "type": "string"
            }
          },
          "metadata": {},
          "execution_count": 289
        }
      ]
    },
    {
      "cell_type": "code",
      "source": [
        "# Encoding input skills\n",
        "\n",
        "encodings = tokenizer.encode_plus(\n",
        "    input_skills_join,\n",
        "    # None,\n",
        "    add_special_tokens=True,\n",
        "    max_length = 512,           # Pad & truncate all sentences.\n",
        "    pad_to_max_length = True,\n",
        "    # truncation=True,\n",
        "    return_attention_mask = True,   # Construct attn. masks.\n",
        "    return_tensors = 'pt',\n",
        ")\n",
        "\n",
        "# Define labels\n",
        "labels = ['Managers',\n",
        " 'Professionals',\n",
        " 'Service and sales workers',\n",
        " 'Plant and machine operators and assemblers',\n",
        " 'Craft and related trades workers',\n",
        " 'Technicians and associate professionals',\n",
        " 'Clerical support workers',\n",
        " 'Elementary occupations']\n",
        "\n",
        "fine_tuned_model.eval()\n",
        "\n",
        "# Evaluate fine-tuned model with input skill and output label index with the highest possibility \n",
        "with torch.no_grad():\n",
        "    input_ids=encodings.input_ids\n",
        "    attention_mask=encodings.attention_mask\n",
        "    token_type_ids=encodings.token_type_ids\n",
        "    output=fine_tuned_model(input_ids, attention_mask, token_type_ids)\n",
        "    final_output = torch.sigmoid(output.logits).cpu().detach().numpy().tolist()\n",
        "    print(int(np.argmax(final_output, axis=1)))\n",
        "\n",
        "# Get output labels\n",
        "probabilities=list(chain.from_iterable(final_output))\n",
        "predictions = dict(zip(labels,probabilities))\n",
        "pred_label = max(predictions, key=predictions.get)\n",
        "pred_label"
      ],
      "metadata": {
        "colab": {
          "base_uri": "https://localhost:8080/",
          "height": 53
        },
        "id": "gGUhubB4nCLo",
        "outputId": "0da76f17-db4e-4667-98a4-04193fbbe68d"
      },
      "execution_count": 290,
      "outputs": [
        {
          "output_type": "stream",
          "name": "stdout",
          "text": [
            "0\n"
          ]
        },
        {
          "output_type": "execute_result",
          "data": {
            "text/plain": [
              "'Managers'"
            ],
            "application/vnd.google.colaboratory.intrinsic+json": {
              "type": "string"
            }
          },
          "metadata": {},
          "execution_count": 290
        }
      ]
    },
    {
      "cell_type": "code",
      "source": [
        "# Phase II: Map input skills to job titles with the help of job category\n",
        "\n",
        "# Method A: Use **cosine similarity** to find the most approprate job titles for user's input\n",
        "\n",
        "input_embeddings = sbert_model.encode(input_skills)\n",
        "idx = list(job_df[job_df['job category'] == pred_label].index)\n",
        "cos = cosine_similarity(input_embeddings.reshape(1, -1), job_emb[idx]).reshape(-1,)\n",
        "match_dict = collections.defaultdict(list)\n",
        "\n",
        "for key, value in zip(idx, cos):\n",
        "    match_dict[key].append(value)\n",
        "\n",
        "sorted_match_dict = sorted(match_dict.items(), key=lambda x:x[1], reverse=True)\n",
        "\n",
        "print(\"Input skills: \", input_skills)\n",
        "job_list = []\n",
        "for idx in sorted_match_dict[:10]:\n",
        "    print('Recommended job: ', job_df['title'][idx[0]], '\\n ')\n",
        "    job_list.append(job_df['title'][idx[0]])\n",
        "job_list"
      ],
      "metadata": {
        "id": "5ZhWwdj5-4cb"
      },
      "execution_count": null,
      "outputs": []
    },
    {
      "cell_type": "code",
      "source": [
        "# Phase II: Map input skills to job titles with the help of job category\n",
        "\n",
        "# Method B: Use **skill proficiency** to find job title\n",
        "\n",
        "item_skill = []\n",
        "item_weight = []\n",
        "for i in range(len(list(input_dict.items()))):\n",
        "    item_skill.append(list(input_dict.items())[i][1])\n",
        "    item_weight.append(list(input_dict.items())[i][0])\n",
        "item_weight\n",
        "\n",
        "input_embeddings = sbert_model.encode(input_skills) # (# of input skills, 768)\n",
        "jobs_idx = list(job_df[job_df['job category'] == pred_label].index)\n",
        "# cos = []\n",
        "# job_cos_all = []\n",
        "# for i_skill, skill in enumerate(input_embeddings):\n",
        "#     for i_job, job in enumerate(job_emb[jobs_idx]):\n",
        "#         job_cos = cosine_similarity(skill.reshape(1, -1), job_emb[jobs_idx][i_job].reshape(1, -1))\n",
        "#         cos.append(job_cos * item_weight[i_skill])\n",
        "#     job_cos_all.append(cos)\n",
        "confidence = {}\n",
        "for idx in jobs_idx:\n",
        "    cos_sum = 0\n",
        "    for i_skill, skill in enumerate(input_embeddings):\n",
        "        cos = cosine_similarity(skill.reshape(1, -1), job_emb[idx].reshape(1, -1)).reshape(-1,)\n",
        "        cos_sum += cos * item_weight[i_skill]\n",
        "    confidence[idx] = cos_sum\n",
        "\n",
        "\n",
        "# sum = 0  \n",
        "# for idx, emb_cos in enumerate(cos):\n",
        "#     sum += emb_cos * item_weight[idx]\n",
        "# print(sum)\n",
        "# len(job_cos_all)\n",
        "\n"
      ],
      "metadata": {
        "id": "naz1V8Df0eGF"
      },
      "execution_count": 291,
      "outputs": []
    },
    {
      "cell_type": "code",
      "source": [
        "confidence = sorted(confidence.items(), key=lambda x:x[1], reverse=True)\n",
        "confidence"
      ],
      "metadata": {
        "colab": {
          "base_uri": "https://localhost:8080/"
        },
        "id": "iDJB5YIjqbdw",
        "outputId": "13f43f36-762d-4846-8716-249f4fb134a1"
      },
      "execution_count": 292,
      "outputs": [
        {
          "output_type": "execute_result",
          "data": {
            "text/plain": [
              "[(59, array([2137.92050961])),\n",
              " (1616, array([1803.55581389])),\n",
              " (0, array([1688.73749307])),\n",
              " (1532, array([1662.66859652])),\n",
              " (120, array([1617.95906401])),\n",
              " (279, array([1609.16209083])),\n",
              " (694, array([1609.16209083])),\n",
              " (464, array([1587.7934107])),\n",
              " (1281, array([1566.54082574])),\n",
              " (1159, array([1560.94405095])),\n",
              " (1693, array([1548.68405256])),\n",
              " (586, array([1524.34344677])),\n",
              " (408, array([1496.40293606])),\n",
              " (230, array([1492.30408212])),\n",
              " (210, array([1484.77340912])),\n",
              " (1352, array([1462.16591677])),\n",
              " (619, array([1460.93498769])),\n",
              " (726, array([1454.34474631])),\n",
              " (920, array([1449.64546727])),\n",
              " (1078, array([1444.08181537])),\n",
              " (713, array([1435.22913599])),\n",
              " (700, array([1432.47097701])),\n",
              " (1644, array([1431.17430411])),\n",
              " (69, array([1424.15345824])),\n",
              " (1466, array([1422.94156949])),\n",
              " (449, array([1417.09910128])),\n",
              " (239, array([1410.68197995])),\n",
              " (1470, array([1394.64132791])),\n",
              " (352, array([1362.94796495])),\n",
              " (372, array([1360.83151728])),\n",
              " (631, array([1351.57638088])),\n",
              " (1512, array([1348.70454084])),\n",
              " (420, array([1338.17244692])),\n",
              " (1259, array([1334.06666085])),\n",
              " (1000, array([1329.68919798])),\n",
              " (638, array([1320.16176782])),\n",
              " (4, array([1317.90900844])),\n",
              " (506, array([1305.98567352])),\n",
              " (668, array([1300.32847457])),\n",
              " (1216, array([1288.9979127])),\n",
              " (886, array([1287.45965943])),\n",
              " (234, array([1287.40588249])),\n",
              " (1628, array([1282.87066931])),\n",
              " (1088, array([1281.21490226])),\n",
              " (561, array([1273.69001655])),\n",
              " (254, array([1270.17447828])),\n",
              " (933, array([1263.73280142])),\n",
              " (1417, array([1261.83966741])),\n",
              " (141, array([1261.73719953])),\n",
              " (1615, array([1259.48932961])),\n",
              " (752, array([1257.57987508])),\n",
              " (479, array([1255.22578946])),\n",
              " (1536, array([1253.06359172])),\n",
              " (1742, array([1249.57000202])),\n",
              " (707, array([1246.7258058])),\n",
              " (1689, array([1245.48680742])),\n",
              " (438, array([1237.52836436])),\n",
              " (180, array([1235.36683153])),\n",
              " (721, array([1215.06879204])),\n",
              " (844, array([1211.08761072])),\n",
              " (1030, array([1209.76780223])),\n",
              " (1596, array([1209.20847129])),\n",
              " (1290, array([1207.723606])),\n",
              " (1228, array([1206.23310052])),\n",
              " (1635, array([1205.17711595])),\n",
              " (145, array([1204.56850925])),\n",
              " (690, array([1202.57624477])),\n",
              " (1284, array([1202.04429253])),\n",
              " (1366, array([1201.88101645])),\n",
              " (3, array([1201.68285718])),\n",
              " (1479, array([1195.18008068])),\n",
              " (715, array([1192.1443373])),\n",
              " (85, array([1181.58231984])),\n",
              " (831, array([1178.45443715])),\n",
              " (455, array([1177.00485981])),\n",
              " (107, array([1167.07490535])),\n",
              " (1737, array([1166.11436717])),\n",
              " (758, array([1165.26805733])),\n",
              " (446, array([1162.97092586])),\n",
              " (1372, array([1162.41605382])),\n",
              " (1250, array([1155.77842324])),\n",
              " (944, array([1155.52284136])),\n",
              " (191, array([1152.41164525])),\n",
              " (1272, array([1141.45113202])),\n",
              " (1411, array([1141.2077278])),\n",
              " (1044, array([1139.40851958])),\n",
              " (1575, array([1139.19453051])),\n",
              " (1387, array([1135.66991132])),\n",
              " (195, array([1128.11671525])),\n",
              " (322, array([1127.85430121])),\n",
              " (1047, array([1127.27781527])),\n",
              " (775, array([1126.18600492])),\n",
              " (343, array([1124.45635454])),\n",
              " (1129, array([1123.72423152])),\n",
              " (375, array([1117.98390685])),\n",
              " (324, array([1111.84378953])),\n",
              " (504, array([1110.31120458])),\n",
              " (1761, array([1107.46576076])),\n",
              " (1542, array([1105.36842449])),\n",
              " (1051, array([1103.43234944])),\n",
              " (569, array([1101.86621276])),\n",
              " (186, array([1101.49902374])),\n",
              " (1634, array([1101.27354106])),\n",
              " (1692, array([1094.54707948])),\n",
              " (1486, array([1088.91980317])),\n",
              " (1500, array([1088.11239622])),\n",
              " (1322, array([1087.9950545])),\n",
              " (718, array([1087.61391038])),\n",
              " (1792, array([1087.1886843])),\n",
              " (264, array([1083.58515836])),\n",
              " (536, array([1083.39919147])),\n",
              " (1383, array([1082.78881301])),\n",
              " (650, array([1082.24100942])),\n",
              " (1766, array([1081.86384219])),\n",
              " (658, array([1080.86692896])),\n",
              " (1231, array([1079.58733478])),\n",
              " (1492, array([1078.8078399])),\n",
              " (402, array([1078.73036507])),\n",
              " (717, array([1077.62777821])),\n",
              " (36, array([1077.49214106])),\n",
              " (770, array([1073.24098165])),\n",
              " (1085, array([1070.38804122])),\n",
              " (830, array([1066.92168658])),\n",
              " (1409, array([1066.48932208])),\n",
              " (1291, array([1064.70819718])),\n",
              " (849, array([1060.01274694])),\n",
              " (693, array([1056.56486406])),\n",
              " (1017, array([1053.06191792])),\n",
              " (9, array([1052.56629571])),\n",
              " (1708, array([1049.05374193])),\n",
              " (765, array([1048.36167521])),\n",
              " (1456, array([1043.52029581])),\n",
              " (1313, array([1041.20561492])),\n",
              " (6, array([1040.30061374])),\n",
              " (645, array([1039.44765657])),\n",
              " (695, array([1039.44765657])),\n",
              " (1090, array([1035.9636615])),\n",
              " (1732, array([1033.5554008])),\n",
              " (1393, array([1019.58534793])),\n",
              " (989, array([1015.65354809])),\n",
              " (554, array([1011.78174985])),\n",
              " (74, array([1007.55098118])),\n",
              " (1351, array([1003.21927391])),\n",
              " (1474, array([1002.70524085])),\n",
              " (881, array([1002.1676278])),\n",
              " (709, array([1000.02172548])),\n",
              " (711, array([995.08771715])),\n",
              " (66, array([995.02704868])),\n",
              " (520, array([994.31116552])),\n",
              " (377, array([990.16254216])),\n",
              " (773, array([989.46772034])),\n",
              " (388, array([983.31743468])),\n",
              " (1680, array([975.22997132])),\n",
              " (1758, array([973.119306])),\n",
              " (1707, array([969.3843258])),\n",
              " (1098, array([968.46100183])),\n",
              " (1592, array([966.56593961])),\n",
              " (729, array([959.16594582])),\n",
              " (1642, array([956.40716275])),\n",
              " (653, array([955.30941455])),\n",
              " (731, array([949.25731172])),\n",
              " (924, array([948.30352017])),\n",
              " (235, array([945.53431013])),\n",
              " (739, array([941.57684944])),\n",
              " (149, array([941.38827406])),\n",
              " (1773, array([941.26089241])),\n",
              " (942, array([940.97003323])),\n",
              " (727, array([934.49227836])),\n",
              " (720, array([933.72249584])),\n",
              " (1349, array([932.44113468])),\n",
              " (378, array([932.12383057])),\n",
              " (1433, array([927.17223163])),\n",
              " (109, array([926.08566497])),\n",
              " (1035, array([925.7798412])),\n",
              " (935, array([923.35030746])),\n",
              " (1364, array([922.42142735])),\n",
              " (1004, array([919.8838891])),\n",
              " (1175, array([918.24438844])),\n",
              " (1220, array([912.19181467])),\n",
              " (1334, array([910.01682996])),\n",
              " (1465, array([905.89469028])),\n",
              " (92, array([900.38447701])),\n",
              " (827, array([898.48636491])),\n",
              " (725, array([898.21067131])),\n",
              " (265, array([888.93069248])),\n",
              " (433, array([882.36920046])),\n",
              " (654, array([880.50726917])),\n",
              " (1497, array([876.73559283])),\n",
              " (768, array([871.5256146])),\n",
              " (344, array([871.20677175])),\n",
              " (688, array([870.56873042])),\n",
              " (439, array([864.0936705])),\n",
              " (345, array([859.33868924])),\n",
              " (1559, array([858.18279024])),\n",
              " (475, array([857.36361601])),\n",
              " (271, array([847.66084151])),\n",
              " (1104, array([844.63841735])),\n",
              " (106, array([842.86803499])),\n",
              " (22, array([839.08297387])),\n",
              " (1687, array([836.36369308])),\n",
              " (639, array([832.59988674])),\n",
              " (38, array([832.31327408])),\n",
              " (231, array([830.54026654])),\n",
              " (190, array([823.60650456])),\n",
              " (1274, array([818.4323197])),\n",
              " (1293, array([818.4323197])),\n",
              " (537, array([808.12344371])),\n",
              " (68, array([805.11939518])),\n",
              " (340, array([803.42913296])),\n",
              " (187, array([801.42342122])),\n",
              " (528, array([799.94004659])),\n",
              " (1032, array([797.5070669])),\n",
              " (1118, array([797.31055854])),\n",
              " (1541, array([796.60255897])),\n",
              " (1163, array([796.59691222])),\n",
              " (1765, array([792.70796448])),\n",
              " (14, array([788.82072605])),\n",
              " (478, array([783.57831518])),\n",
              " (482, array([776.30601066])),\n",
              " (1298, array([755.93275351])),\n",
              " (1021, array([751.76060373])),\n",
              " (714, array([744.81570273])),\n",
              " (825, array([742.43176584])),\n",
              " (414, array([740.33238397])),\n",
              " (1410, array([735.19841836])),\n",
              " (1294, array([733.37263997])),\n",
              " (952, array([731.61599709])),\n",
              " (1584, array([719.92084561])),\n",
              " (936, array([715.8771953])),\n",
              " (486, array([699.81453112])),\n",
              " (1609, array([681.68117464])),\n",
              " (899, array([680.1002728])),\n",
              " (1269, array([664.36002186])),\n",
              " (142, array([652.36287661])),\n",
              " (1533, array([635.54111723])),\n",
              " (1771, array([599.41912158])),\n",
              " (782, array([590.15435412])),\n",
              " (1787, array([589.69060414])),\n",
              " (362, array([587.23100647])),\n",
              " (1508, array([573.05749271])),\n",
              " (661, array([573.02368428])),\n",
              " (1127, array([441.57100319]))]"
            ]
          },
          "metadata": {},
          "execution_count": 292
        }
      ]
    },
    {
      "cell_type": "code",
      "source": [
        "print(input_skills)\n",
        "for item in confidence[0:10]:\n",
        "    print(job_df['title'][item[0]])"
      ],
      "metadata": {
        "colab": {
          "base_uri": "https://localhost:8080/"
        },
        "id": "h_OFwHH9qx6k",
        "outputId": "8d91835d-f76e-4d86-e453-d8a977f98caa"
      },
      "execution_count": 293,
      "outputs": [
        {
          "output_type": "stream",
          "name": "stdout",
          "text": [
            "['manager', 'group management ', 'communication', 'leadership']\n",
            "Court Services Manager\n",
            "Nurse Manager Neuro ICU\n",
            "Head Start Teacher\n",
            "Service Supervisor\n",
            "Clinical Supervisor - $2,000 Sign On Bonus\n",
            "Facilites Operations and Maintenance Manager\n",
            "Quality Control Manager\n",
            "Entry Level Business Management Trainee - New Jersey Clean Energy Campaign\n",
            "Data Center Project Manager\n",
            "Sr Program Manager\n"
          ]
        }
      ]
    },
    {
      "cell_type": "markdown",
      "source": [
        "### Appendix\n",
        "\n",
        "```\n",
        "\n",
        "# Encoding skill list of each job using SBERT and add a new column 'method A embedding'and \n",
        "job_df = pd.read_csv('/content/drive/MyDrive/DS2/clean_dataset_1794.csv', index_col=0)\n",
        "# category_df = job_df[job_df['job category'] == str(pred_label)]\n",
        "# category_df.reset_index(drop=True, inplace=True)\n",
        "job_emb = []\n",
        "for idx, skill in enumerate(job_df['skills']):\n",
        "    job_emb.append(sbert_model.encode(skill))\n",
        "\n",
        "np.savetxt('/content/drive/MyDrive/DS2/job_emb.csv', job_emb, delimiter=',')\n",
        "\n",
        "job_emb = pd.read_csv('/content/drive/MyDrive/DS2/job_emb.csv', header=None)\n",
        "\n",
        "```\n",
        "\n"
      ],
      "metadata": {
        "id": "nGEoQcl_7udZ"
      }
    }
  ]
}